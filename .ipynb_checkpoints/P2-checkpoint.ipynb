{
 "metadata": {
  "language_info": {
   "codemirror_mode": {
    "name": "ipython",
    "version": 3
   },
   "file_extension": ".py",
   "mimetype": "text/x-python",
   "name": "python",
   "nbconvert_exporter": "python",
   "pygments_lexer": "ipython3",
   "version": "3.7.9-final"
  },
  "orig_nbformat": 2,
  "kernelspec": {
   "name": "python3",
   "display_name": "Python 3.7.9 64-bit ('carnd-term1': conda)",
   "metadata": {
    "interpreter": {
     "hash": "a03d0853d649b3dfc8b94675dc19467fcc711fb514051831f0bd0659eb682933"
    }
   }
  }
 },
 "nbformat": 4,
 "nbformat_minor": 2,
 "cells": [
  {
   "cell_type": "code",
   "execution_count": 1,
   "metadata": {},
   "outputs": [],
   "source": [
    "import numpy as np\n",
    "import cv2\n",
    "import matplotlib.pyplot as plt\n",
    "import matplotlib.image as mpimg \n",
    "from glob import glob"
   ]
  },
  {
   "source": [
    "#### The first step is to callibrate the camera, and correct for distortion.\n",
    "#### To start, we need to find the chessboard corners on the images. \n",
    "\n",
    "#### These corners will be displayed on a separate window. "
   ],
   "cell_type": "markdown",
   "metadata": {}
  },
  {
   "cell_type": "code",
   "execution_count": 27,
   "metadata": {},
   "outputs": [],
   "source": [
    "# importing the images\n",
    "images = [cv2.imread(image) for image in glob(\"camera_cal/calibration*.jpg\")]\n",
    "\n",
    "# The size od=f all images\n",
    "height, width = images[0].shape[:2]\n",
    "\n",
    "pattern = (9, 6)\n",
    "\n",
    "# The coordinates of the corners in the real world, measured in squares (length of a square side)\n",
    "# (x, y, z) for each corner, with z=0 for all of them, for simplicity.\n",
    "real_corners = np.zeros((pattern[0]*pattern[1], 3), np.float32)\n",
    "real_corners[:, :2] = np.mgrid[0:pattern[0], 0:pattern[1]].T.reshape(-1, 2)\n",
    "\n",
    "# Stores the real corner coordinates for each chessboard. \n",
    "# All will have the same set of coordinates [(0, 0, 0), (1, 0, 0), (x, y, z)], \n",
    "# where (x, y, z) are measured in squares \n",
    "object_points = []\n",
    "\n",
    "# This will contain the coordinates of the corners of each chessboard image.\n",
    "# Since all images are different, the coordinates will be different.\n",
    "# The coordinates are measured in pixels.\n",
    "image_points = []\n",
    "\n",
    "show_images = True\n",
    "interactive = True\n",
    "for image in images:\n",
    "    # image = cv2.imread(image)\n",
    "    gray = cv2.cvtColor(image, cv2.COLOR_BGR2GRAY)\n",
    "    ret, corners = cv2.findChessboardCorners(gray, pattern)\n",
    "\n",
    "    \n",
    "    if ret:\n",
    "        image_points.append(corners)\n",
    "        object_points.append(real_corners)\n",
    "        cv2.drawChessboardCorners(image, pattern, corners, ret)\n",
    "\n",
    "        if show_images:\n",
    "            cv2.imshow(\"Image with corners\", image)\n",
    "            key = None\n",
    "            if interactive:\n",
    "                key = cv2.waitKey(0)\n",
    "                # The next image will be shown when the user presses the spacebar\n",
    "                if key == ord(' '):\n",
    "                    continue\n",
    "            else:\n",
    "                key = cv2.waitKey(500)\n",
    "\n",
    "            # if the user quits, no more images will be show, but corners will still be appended.\n",
    "            if key == ord('q'):\n",
    "                show_images = False\n",
    "\n",
    "cv2.destroyAllWindows()"
   ]
  },
  {
   "source": [
    "#### These corners can be used to find the camera matrix and the distortion coefficients."
   ],
   "cell_type": "markdown",
   "metadata": {}
  },
  {
   "cell_type": "code",
   "execution_count": 15,
   "metadata": {},
   "outputs": [],
   "source": [
    "ret, mtx, dist, rvecs, tvecs = cv2.calibrateCamera(object_points, image_points, (width, height), None, None)"
   ]
  },
  {
   "source": [
    "The matrix `mtx` and the distortion coefficients `dist` can be used to undistort the images. A test is done below. "
   ],
   "cell_type": "markdown",
   "metadata": {}
  },
  {
   "cell_type": "code",
   "execution_count": 12,
   "metadata": {},
   "outputs": [
    {
     "output_type": "execute_result",
     "data": {
      "text/plain": [
       "(17, 54, 1, 2)"
      ]
     },
     "metadata": {},
     "execution_count": 12
    }
   ],
   "source": [
    "np.array(image_points).shape"
   ]
  },
  {
   "cell_type": "code",
   "execution_count": 16,
   "metadata": {},
   "outputs": [
    {
     "output_type": "execute_result",
     "data": {
      "text/plain": [
       "array([[1.15777930e+03, 0.00000000e+00, 6.67111054e+02],\n",
       "       [0.00000000e+00, 1.15282291e+03, 3.86128938e+02],\n",
       "       [0.00000000e+00, 0.00000000e+00, 1.00000000e+00]])"
      ]
     },
     "metadata": {},
     "execution_count": 16
    }
   ],
   "source": [
    "mtx"
   ]
  },
  {
   "cell_type": "code",
   "execution_count": null,
   "metadata": {},
   "outputs": [],
   "source": [
    "\n",
    "        if show_images:\n",
    "            cv2.imshow(\"Image with corners\", image)\n",
    "            if interactive:\n",
    "                key = cv2.waitKey(0)\n",
    "                # if the user quits, no more images will be show, but corners will still be appended.\n",
    "                if key == ord('q'):\n",
    "                    show_images = False\n",
    "                elif key == ord(' '):\n",
    "                    continue\n",
    "            else:\n",
    "                cv2.waitKey(500)"
   ]
  }
 ]
}